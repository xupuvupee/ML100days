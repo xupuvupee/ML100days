{
 "cells": [
  {
   "cell_type": "code",
   "execution_count": 3,
   "id": "under-navigator",
   "metadata": {},
   "outputs": [],
   "source": [
    "import numpy as np\n",
    "import pandas as pd\n",
    "import time"
   ]
  },
  {
   "cell_type": "markdown",
   "id": "6cc6c825",
   "metadata": {},
   "source": [
    "# Hw01\n",
    "## 作業目標：\n",
    "1. 熟悉 Numpy, Pandas 的操作，並比較兩者的處理速度\n",
    "## 作業重點：\n",
    "1. 使用 Numpy, Pandas 分別計算 “homework.csv” 中每個 feature 的平均值、中位數、最大值、最小值，並比較兩者運算時間\n",
    "2. 利用以下方式篩選離群值(option)：\n",
    "* feature 的平均值組成一個高維向量 Vec\n",
    "* 計算每個 sample 與 Vec 的距離\n",
    "* 計算距離的平均值、標準差，將距離平均值超過三個標準差的點當作離群值刪除\n",
    "* __請將刪除離群值後的 dataframe 取名為 df_after_delete__"
   ]
  },
  {
   "cell_type": "code",
   "execution_count": 4,
   "id": "6509eda3",
   "metadata": {},
   "outputs": [
    {
     "name": "stdout",
     "output_type": "stream",
     "text": [
      "df=\n",
      "           col0      col1      col2      col3      col4      col5      col6  \\\n",
      "0     -0.037418 -0.423133 -1.066878  0.463263 -0.130916 -1.153970 -0.598449   \n",
      "1      0.818413 -1.120974 -0.581785 -1.280338 -0.713844  1.698914 -0.832480   \n",
      "2     -2.090596 -0.868769 -1.778862  0.666989 -1.357663  0.433514 -1.617890   \n",
      "3     -0.289783  1.151368  1.105835 -0.309009  0.186021  0.625453 -1.357677   \n",
      "4      0.393337 -1.279473 -0.380730 -3.059202 -1.027667  0.121893  0.088561   \n",
      "...         ...       ...       ...       ...       ...       ...       ...   \n",
      "99995  1.169373 -1.659422  1.407234  0.625086 -1.779651  0.684514 -0.564882   \n",
      "99996  0.151488 -0.419368  0.077559 -0.997915 -1.871504 -2.338928 -1.914960   \n",
      "99997  1.208199 -1.139107  0.074972  0.371717  0.176787 -0.523450  1.561540   \n",
      "99998  0.038288  0.784779 -0.557020  2.462814  1.129594 -1.292801 -0.650390   \n",
      "99999 -0.017763  0.077523 -2.197524 -0.572833  0.476823  0.217154  0.006123   \n",
      "\n",
      "           col7      col8      col9  ...     col70     col71     col72  \\\n",
      "0     -0.327957 -0.007907 -0.464428  ...  0.222763 -1.229966 -0.667184   \n",
      "1     -0.313192 -1.036266 -1.098621  ... -0.445329 -0.693601  0.795167   \n",
      "2     -1.220858 -0.566980 -1.237635  ...  1.152130 -0.058108 -0.105104   \n",
      "3      0.308579 -0.380738  1.335565  ... -0.683605  0.905133  1.328116   \n",
      "4     -0.444649  0.643246 -0.258456  ... -0.030803 -1.994453 -0.304141   \n",
      "...         ...       ...       ...  ...       ...       ...       ...   \n",
      "99995 -0.159244  0.861659  0.476870  ... -0.226039  1.396990  0.559320   \n",
      "99996 -2.855910  0.738012 -0.174478  ... -1.465184  0.402564  0.220336   \n",
      "99997  1.371943 -1.379962 -1.025441  ...  1.928941 -0.331970  0.573593   \n",
      "99998  0.715064 -1.328429  0.120543  ... -0.723951  0.122555 -1.811966   \n",
      "99999  1.996641 -0.389060  0.095060  ...  0.680210 -0.572903 -1.494582   \n",
      "\n",
      "          col73     col74     col75     col76     col77     col78     col79  \n",
      "0     -0.102731 -1.310584 -0.702787  2.059981  0.608418 -0.020808  1.783352  \n",
      "1     -1.051140  1.285994  0.653626  1.396237  0.080399  1.377073 -0.794819  \n",
      "2      1.080918  0.924454 -0.019370 -0.948623 -0.981408 -0.251559  0.345169  \n",
      "3      0.529399 -0.443334  1.276279  2.503925  0.613427  0.358716 -0.958212  \n",
      "4     -1.626619 -0.737330  0.276077 -0.052384  0.645169 -0.728073 -0.051508  \n",
      "...         ...       ...       ...       ...       ...       ...       ...  \n",
      "99995  1.195908  0.486600 -1.544905 -1.052251  1.152265 -0.603716  1.214425  \n",
      "99996 -0.065954  1.597364  0.512378 -0.935301  0.152723 -0.134673 -0.591142  \n",
      "99997  0.163113  1.672773 -2.370009  0.746834  1.793470  1.268034 -0.520627  \n",
      "99998 -0.859171  0.828031  0.699950 -1.044509 -1.729967  1.211119 -0.157613  \n",
      "99999  1.278799 -0.569146 -0.013218  1.113988  0.275856 -1.133910  0.013100  \n",
      "\n",
      "[100000 rows x 80 columns]\n",
      "\n"
     ]
    }
   ],
   "source": [
    "# 讀取 homework.csv\n",
    "\"\"\" Your Code Here: 讀取 homework.csv\"\"\"\n",
    "df = pd.read_csv('homework.csv')\n",
    "print(f'df=\\n{df}\\n')"
   ]
  },
  {
   "cell_type": "markdown",
   "id": "4bdcbdf6",
   "metadata": {},
   "source": [
    "## 1. 使用 Numpy, Pandas 分別計算 “homework.csv” 中每個 feature 的平均值、中位數、最大值、最小值，並比較兩者運算時間"
   ]
  },
  {
   "cell_type": "code",
   "execution_count": 21,
   "id": "e9c6a368",
   "metadata": {},
   "outputs": [
    {
     "name": "stdout",
     "output_type": "stream",
     "text": [
      "mean=[ 0.06940707 -0.12739018  0.06209541 ... -0.00224435  0.14262072\n",
      " -0.22308847]\n",
      "median=[-0.01739033 -0.27145737  0.04676238 ...  0.13382819  0.07664838\n",
      " -0.26411662]\n",
      "Max=[2.14311308 2.18387529 2.48553862 ... 1.92894144 2.78318963 2.63660653]\n",
      "Min=[-1.52883341 -2.83316288 -2.73398066 ... -2.59017083 -2.15959955\n",
      " -2.19752415]\n",
      "\n",
      "Numpy has done in 0.1731 sec.\n",
      "\n",
      "\n",
      "\n",
      "Pandas has done in 0.1756 sec.\n"
     ]
    }
   ],
   "source": [
    "# -------------- Numpy --------------\n",
    "arr = np.array(df, dtype = 'float')\n",
    "\n",
    "start = time.time()\n",
    "\"\"\" Your Code Here: 用 Numpy 計算 “homework.csv” 中每個 feature 的平均值、中位數、最大值、最小值，並比較兩者運算時間\"\"\"\n",
    "mean=np.mean(arr,axis=1)\n",
    "median=np.median(arr,axis=1)\n",
    "Max=np.max(arr,axis=1)\n",
    "Min=np.min(arr,axis=1)\n",
    "end = time.time()\n",
    "print(f'mean={mean}\\nmedian={median}\\nMax={Max}\\nMin={Min}\\n')\n",
    "print(f'Numpy has done in {(end - start):.4f} sec.')\n",
    "print(f'\\n\\n')\n",
    "# -------------- Pandas --------------\n",
    "start = time.time()\n",
    "\"\"\" Your Code Here: 用 Pandas 計算 “homework.csv” 中每個 feature 的平均值、中位數、最大值、最小值，並比較兩者運算時間\"\"\"\n",
    "mean=df.mean()\n",
    "median=df.median()\n",
    "Max=df.max()\n",
    "Min=df.min()\n",
    "end = time.time()\n",
    "#print(f'mean={mean}\\nmedian={median}\\nMax={Max}\\nMin={Min}\\n')\n",
    "print(f'Pandas has done in {(end - start):.4f} sec.')"
   ]
  },
  {
   "cell_type": "markdown",
   "id": "925f2373",
   "metadata": {},
   "source": [
    "## 2. 利用以下方式篩選離群值(option)：\n",
    "* feature 的平均值組成一個高維向量 Vec\n",
    "* 計算每個 sample 與 Vec 的距離\n",
    "* 計算距離的平均值、標準差，將距離平均值超過三個標準差的點當作離群值刪除\n",
    "* __請將刪除離群值後的 dataframe 取名為 df_after_delete__"
   ]
  },
  {
   "cell_type": "code",
   "execution_count": 107,
   "id": "7ab51e41",
   "metadata": {},
   "outputs": [],
   "source": [
    "# 計算各個 sample 與 Vec 之距離\n",
    "\"\"\" Your Code Here: 計算各個 sample 與 Vec 之距離\"\"\"\n",
    "vec=df.mean()\n",
    "dis=df-vec\n",
    "dis=dis.abs()\n",
    "#print(f'{dis}')\n",
    "\n",
    "# 計算 distance 的 mean, std, 並篩選離群值\n",
    "\"\"\" Your Code Here: 計算 distance 的 mean, std, 並篩選離群值\"\"\"\n",
    "dis_mean=dis.mean()\n",
    "dis_std=dis.std()\n",
    "#print(f'mean=\\n{dis_mean}\\n\\nstd=\\n{dis_std}\\n')\n",
    "\n",
    "filter=dis<=(dis_std*3)\n",
    "#print(f'{dis[filter]}') #index4&99996\n",
    "\n",
    "# 刪除離群值\n",
    "\"\"\" Your Code Here: 刪除離群值\"\"\"\n",
    "df_after_delete=df[filter].dropna()\n",
    "\n",
    "#print(f'{df_after_delete}')\n",
    "#df_after_delete.to_csv('ans.csv') "
   ]
  },
  {
   "cell_type": "markdown",
   "id": "37870ed0",
   "metadata": {},
   "source": [
    "## --驗證答案--"
   ]
  },
  {
   "cell_type": "code",
   "execution_count": 108,
   "id": "6cd66e70",
   "metadata": {},
   "outputs": [
    {
     "ename": "FileNotFoundError",
     "evalue": "[Errno 2] No such file or directory: './ans.csv'",
     "output_type": "error",
     "traceback": [
      "\u001b[1;31m---------------------------------------------------------------------------\u001b[0m",
      "\u001b[1;31mFileNotFoundError\u001b[0m                         Traceback (most recent call last)",
      "\u001b[1;32m<ipython-input-108-73fe8a81fbef>\u001b[0m in \u001b[0;36m<module>\u001b[1;34m\u001b[0m\n\u001b[1;32m----> 1\u001b[1;33m \u001b[0mans\u001b[0m \u001b[1;33m=\u001b[0m \u001b[0mpd\u001b[0m\u001b[1;33m.\u001b[0m\u001b[0mread_csv\u001b[0m\u001b[1;33m(\u001b[0m\u001b[1;34m'./ans.csv'\u001b[0m\u001b[1;33m)\u001b[0m\u001b[1;33m\u001b[0m\u001b[1;33m\u001b[0m\u001b[0m\n\u001b[0m\u001b[0;32m      2\u001b[0m \u001b[1;33m\u001b[0m\u001b[0m\n\u001b[0;32m      3\u001b[0m \u001b[1;32mtry\u001b[0m\u001b[1;33m:\u001b[0m\u001b[1;33m\u001b[0m\u001b[1;33m\u001b[0m\u001b[0m\n\u001b[0;32m      4\u001b[0m     \u001b[0mjudge\u001b[0m \u001b[1;33m=\u001b[0m \u001b[1;32mnot\u001b[0m \u001b[1;33m(\u001b[0m\u001b[1;32mFalse\u001b[0m \u001b[1;32min\u001b[0m \u001b[1;33m(\u001b[0m\u001b[0mans\u001b[0m \u001b[1;33m==\u001b[0m \u001b[0mdf_after_delete\u001b[0m\u001b[1;33m)\u001b[0m\u001b[1;33m)\u001b[0m\u001b[1;33m\u001b[0m\u001b[1;33m\u001b[0m\u001b[0m\n\u001b[0;32m      5\u001b[0m \u001b[1;32mexcept\u001b[0m\u001b[1;33m:\u001b[0m\u001b[1;33m\u001b[0m\u001b[1;33m\u001b[0m\u001b[0m\n",
      "\u001b[1;32mc:\\users\\yihsi\\appdata\\roaming\\python\\python3\\lib\\site-packages\\pandas\\io\\parsers.py\u001b[0m in \u001b[0;36mread_csv\u001b[1;34m(filepath_or_buffer, sep, delimiter, header, names, index_col, usecols, squeeze, prefix, mangle_dupe_cols, dtype, engine, converters, true_values, false_values, skipinitialspace, skiprows, skipfooter, nrows, na_values, keep_default_na, na_filter, verbose, skip_blank_lines, parse_dates, infer_datetime_format, keep_date_col, date_parser, dayfirst, cache_dates, iterator, chunksize, compression, thousands, decimal, lineterminator, quotechar, quoting, doublequote, escapechar, comment, encoding, dialect, error_bad_lines, warn_bad_lines, delim_whitespace, low_memory, memory_map, float_precision, storage_options)\u001b[0m\n\u001b[0;32m    608\u001b[0m     \u001b[0mkwds\u001b[0m\u001b[1;33m.\u001b[0m\u001b[0mupdate\u001b[0m\u001b[1;33m(\u001b[0m\u001b[0mkwds_defaults\u001b[0m\u001b[1;33m)\u001b[0m\u001b[1;33m\u001b[0m\u001b[1;33m\u001b[0m\u001b[0m\n\u001b[0;32m    609\u001b[0m \u001b[1;33m\u001b[0m\u001b[0m\n\u001b[1;32m--> 610\u001b[1;33m     \u001b[1;32mreturn\u001b[0m \u001b[0m_read\u001b[0m\u001b[1;33m(\u001b[0m\u001b[0mfilepath_or_buffer\u001b[0m\u001b[1;33m,\u001b[0m \u001b[0mkwds\u001b[0m\u001b[1;33m)\u001b[0m\u001b[1;33m\u001b[0m\u001b[1;33m\u001b[0m\u001b[0m\n\u001b[0m\u001b[0;32m    611\u001b[0m \u001b[1;33m\u001b[0m\u001b[0m\n\u001b[0;32m    612\u001b[0m \u001b[1;33m\u001b[0m\u001b[0m\n",
      "\u001b[1;32mc:\\users\\yihsi\\appdata\\roaming\\python\\python3\\lib\\site-packages\\pandas\\io\\parsers.py\u001b[0m in \u001b[0;36m_read\u001b[1;34m(filepath_or_buffer, kwds)\u001b[0m\n\u001b[0;32m    460\u001b[0m \u001b[1;33m\u001b[0m\u001b[0m\n\u001b[0;32m    461\u001b[0m     \u001b[1;31m# Create the parser.\u001b[0m\u001b[1;33m\u001b[0m\u001b[1;33m\u001b[0m\u001b[1;33m\u001b[0m\u001b[0m\n\u001b[1;32m--> 462\u001b[1;33m     \u001b[0mparser\u001b[0m \u001b[1;33m=\u001b[0m \u001b[0mTextFileReader\u001b[0m\u001b[1;33m(\u001b[0m\u001b[0mfilepath_or_buffer\u001b[0m\u001b[1;33m,\u001b[0m \u001b[1;33m**\u001b[0m\u001b[0mkwds\u001b[0m\u001b[1;33m)\u001b[0m\u001b[1;33m\u001b[0m\u001b[1;33m\u001b[0m\u001b[0m\n\u001b[0m\u001b[0;32m    463\u001b[0m \u001b[1;33m\u001b[0m\u001b[0m\n\u001b[0;32m    464\u001b[0m     \u001b[1;32mif\u001b[0m \u001b[0mchunksize\u001b[0m \u001b[1;32mor\u001b[0m \u001b[0miterator\u001b[0m\u001b[1;33m:\u001b[0m\u001b[1;33m\u001b[0m\u001b[1;33m\u001b[0m\u001b[0m\n",
      "\u001b[1;32mc:\\users\\yihsi\\appdata\\roaming\\python\\python3\\lib\\site-packages\\pandas\\io\\parsers.py\u001b[0m in \u001b[0;36m__init__\u001b[1;34m(self, f, engine, **kwds)\u001b[0m\n\u001b[0;32m    817\u001b[0m             \u001b[0mself\u001b[0m\u001b[1;33m.\u001b[0m\u001b[0moptions\u001b[0m\u001b[1;33m[\u001b[0m\u001b[1;34m\"has_index_names\"\u001b[0m\u001b[1;33m]\u001b[0m \u001b[1;33m=\u001b[0m \u001b[0mkwds\u001b[0m\u001b[1;33m[\u001b[0m\u001b[1;34m\"has_index_names\"\u001b[0m\u001b[1;33m]\u001b[0m\u001b[1;33m\u001b[0m\u001b[1;33m\u001b[0m\u001b[0m\n\u001b[0;32m    818\u001b[0m \u001b[1;33m\u001b[0m\u001b[0m\n\u001b[1;32m--> 819\u001b[1;33m         \u001b[0mself\u001b[0m\u001b[1;33m.\u001b[0m\u001b[0m_engine\u001b[0m \u001b[1;33m=\u001b[0m \u001b[0mself\u001b[0m\u001b[1;33m.\u001b[0m\u001b[0m_make_engine\u001b[0m\u001b[1;33m(\u001b[0m\u001b[0mself\u001b[0m\u001b[1;33m.\u001b[0m\u001b[0mengine\u001b[0m\u001b[1;33m)\u001b[0m\u001b[1;33m\u001b[0m\u001b[1;33m\u001b[0m\u001b[0m\n\u001b[0m\u001b[0;32m    820\u001b[0m \u001b[1;33m\u001b[0m\u001b[0m\n\u001b[0;32m    821\u001b[0m     \u001b[1;32mdef\u001b[0m \u001b[0mclose\u001b[0m\u001b[1;33m(\u001b[0m\u001b[0mself\u001b[0m\u001b[1;33m)\u001b[0m\u001b[1;33m:\u001b[0m\u001b[1;33m\u001b[0m\u001b[1;33m\u001b[0m\u001b[0m\n",
      "\u001b[1;32mc:\\users\\yihsi\\appdata\\roaming\\python\\python3\\lib\\site-packages\\pandas\\io\\parsers.py\u001b[0m in \u001b[0;36m_make_engine\u001b[1;34m(self, engine)\u001b[0m\n\u001b[0;32m   1048\u001b[0m             )\n\u001b[0;32m   1049\u001b[0m         \u001b[1;31m# error: Too many arguments for \"ParserBase\"\u001b[0m\u001b[1;33m\u001b[0m\u001b[1;33m\u001b[0m\u001b[1;33m\u001b[0m\u001b[0m\n\u001b[1;32m-> 1050\u001b[1;33m         \u001b[1;32mreturn\u001b[0m \u001b[0mmapping\u001b[0m\u001b[1;33m[\u001b[0m\u001b[0mengine\u001b[0m\u001b[1;33m]\u001b[0m\u001b[1;33m(\u001b[0m\u001b[0mself\u001b[0m\u001b[1;33m.\u001b[0m\u001b[0mf\u001b[0m\u001b[1;33m,\u001b[0m \u001b[1;33m**\u001b[0m\u001b[0mself\u001b[0m\u001b[1;33m.\u001b[0m\u001b[0moptions\u001b[0m\u001b[1;33m)\u001b[0m  \u001b[1;31m# type: ignore[call-arg]\u001b[0m\u001b[1;33m\u001b[0m\u001b[1;33m\u001b[0m\u001b[0m\n\u001b[0m\u001b[0;32m   1051\u001b[0m \u001b[1;33m\u001b[0m\u001b[0m\n\u001b[0;32m   1052\u001b[0m     \u001b[1;32mdef\u001b[0m \u001b[0m_failover_to_python\u001b[0m\u001b[1;33m(\u001b[0m\u001b[0mself\u001b[0m\u001b[1;33m)\u001b[0m\u001b[1;33m:\u001b[0m\u001b[1;33m\u001b[0m\u001b[1;33m\u001b[0m\u001b[0m\n",
      "\u001b[1;32mc:\\users\\yihsi\\appdata\\roaming\\python\\python3\\lib\\site-packages\\pandas\\io\\parsers.py\u001b[0m in \u001b[0;36m__init__\u001b[1;34m(self, src, **kwds)\u001b[0m\n\u001b[0;32m   1865\u001b[0m \u001b[1;33m\u001b[0m\u001b[0m\n\u001b[0;32m   1866\u001b[0m         \u001b[1;31m# open handles\u001b[0m\u001b[1;33m\u001b[0m\u001b[1;33m\u001b[0m\u001b[1;33m\u001b[0m\u001b[0m\n\u001b[1;32m-> 1867\u001b[1;33m         \u001b[0mself\u001b[0m\u001b[1;33m.\u001b[0m\u001b[0m_open_handles\u001b[0m\u001b[1;33m(\u001b[0m\u001b[0msrc\u001b[0m\u001b[1;33m,\u001b[0m \u001b[0mkwds\u001b[0m\u001b[1;33m)\u001b[0m\u001b[1;33m\u001b[0m\u001b[1;33m\u001b[0m\u001b[0m\n\u001b[0m\u001b[0;32m   1868\u001b[0m         \u001b[1;32massert\u001b[0m \u001b[0mself\u001b[0m\u001b[1;33m.\u001b[0m\u001b[0mhandles\u001b[0m \u001b[1;32mis\u001b[0m \u001b[1;32mnot\u001b[0m \u001b[1;32mNone\u001b[0m\u001b[1;33m\u001b[0m\u001b[1;33m\u001b[0m\u001b[0m\n\u001b[0;32m   1869\u001b[0m         \u001b[1;32mfor\u001b[0m \u001b[0mkey\u001b[0m \u001b[1;32min\u001b[0m \u001b[1;33m(\u001b[0m\u001b[1;34m\"storage_options\"\u001b[0m\u001b[1;33m,\u001b[0m \u001b[1;34m\"encoding\"\u001b[0m\u001b[1;33m,\u001b[0m \u001b[1;34m\"memory_map\"\u001b[0m\u001b[1;33m,\u001b[0m \u001b[1;34m\"compression\"\u001b[0m\u001b[1;33m)\u001b[0m\u001b[1;33m:\u001b[0m\u001b[1;33m\u001b[0m\u001b[1;33m\u001b[0m\u001b[0m\n",
      "\u001b[1;32mc:\\users\\yihsi\\appdata\\roaming\\python\\python3\\lib\\site-packages\\pandas\\io\\parsers.py\u001b[0m in \u001b[0;36m_open_handles\u001b[1;34m(self, src, kwds)\u001b[0m\n\u001b[0;32m   1360\u001b[0m         \u001b[0mLet\u001b[0m \u001b[0mthe\u001b[0m \u001b[0mreaders\u001b[0m \u001b[0mopen\u001b[0m \u001b[0mIOHanldes\u001b[0m \u001b[0mafter\u001b[0m \u001b[0mthey\u001b[0m \u001b[0mare\u001b[0m \u001b[0mdone\u001b[0m \u001b[1;32mwith\u001b[0m \u001b[0mtheir\u001b[0m \u001b[0mpotential\u001b[0m \u001b[0mraises\u001b[0m\u001b[1;33m.\u001b[0m\u001b[1;33m\u001b[0m\u001b[1;33m\u001b[0m\u001b[0m\n\u001b[0;32m   1361\u001b[0m         \"\"\"\n\u001b[1;32m-> 1362\u001b[1;33m         self.handles = get_handle(\n\u001b[0m\u001b[0;32m   1363\u001b[0m             \u001b[0msrc\u001b[0m\u001b[1;33m,\u001b[0m\u001b[1;33m\u001b[0m\u001b[1;33m\u001b[0m\u001b[0m\n\u001b[0;32m   1364\u001b[0m             \u001b[1;34m\"r\"\u001b[0m\u001b[1;33m,\u001b[0m\u001b[1;33m\u001b[0m\u001b[1;33m\u001b[0m\u001b[0m\n",
      "\u001b[1;32mc:\\users\\yihsi\\appdata\\roaming\\python\\python3\\lib\\site-packages\\pandas\\io\\common.py\u001b[0m in \u001b[0;36mget_handle\u001b[1;34m(path_or_buf, mode, encoding, compression, memory_map, is_text, errors, storage_options)\u001b[0m\n\u001b[0;32m    640\u001b[0m                 \u001b[0merrors\u001b[0m \u001b[1;33m=\u001b[0m \u001b[1;34m\"replace\"\u001b[0m\u001b[1;33m\u001b[0m\u001b[1;33m\u001b[0m\u001b[0m\n\u001b[0;32m    641\u001b[0m             \u001b[1;31m# Encoding\u001b[0m\u001b[1;33m\u001b[0m\u001b[1;33m\u001b[0m\u001b[1;33m\u001b[0m\u001b[0m\n\u001b[1;32m--> 642\u001b[1;33m             handle = open(\n\u001b[0m\u001b[0;32m    643\u001b[0m                 \u001b[0mhandle\u001b[0m\u001b[1;33m,\u001b[0m\u001b[1;33m\u001b[0m\u001b[1;33m\u001b[0m\u001b[0m\n\u001b[0;32m    644\u001b[0m                 \u001b[0mioargs\u001b[0m\u001b[1;33m.\u001b[0m\u001b[0mmode\u001b[0m\u001b[1;33m,\u001b[0m\u001b[1;33m\u001b[0m\u001b[1;33m\u001b[0m\u001b[0m\n",
      "\u001b[1;31mFileNotFoundError\u001b[0m: [Errno 2] No such file or directory: './ans.csv'"
     ]
    }
   ],
   "source": [
    "ans = pd.read_csv('./ans.csv')\n",
    "\n",
    "try:\n",
    "    judge = not (False in (ans == df_after_delete))\n",
    "except:\n",
    "    judge = False\n",
    "print(f'Your answer is {judge}.')"
   ]
  },
  {
   "cell_type": "code",
   "execution_count": null,
   "id": "a1184491",
   "metadata": {},
   "outputs": [],
   "source": []
  }
 ],
 "metadata": {
  "kernelspec": {
   "display_name": "Python 3",
   "language": "python",
   "name": "python3"
  },
  "language_info": {
   "codemirror_mode": {
    "name": "ipython",
    "version": 3
   },
   "file_extension": ".py",
   "mimetype": "text/x-python",
   "name": "python",
   "nbconvert_exporter": "python",
   "pygments_lexer": "ipython3",
   "version": "3.9.4"
  },
  "metadata": {
   "interpreter": {
    "hash": "aee8b7b246df8f9039afb4144a1f6fd8d2ca17a180786b69acc140d282b71a49"
   }
  }
 },
 "nbformat": 4,
 "nbformat_minor": 5
}
